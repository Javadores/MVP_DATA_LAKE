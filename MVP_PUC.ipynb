{
 "cells": [
  {
   "cell_type": "markdown",
   "metadata": {
    "application/vnd.databricks.v1+cell": {
     "cellMetadata": {
      "byteLimit": 2048000,
      "rowLimit": 10000
     },
     "inputWidgets": {},
     "nuid": "724c9d37-373b-4068-a841-a1900dde2bb1",
     "showTitle": false,
     "tableResultSettingsMap": {},
     "title": ""
    }
   },
   "source": [
    "## # Objetivos do trabalho\n",
    "\n",
    "O objetivo deste script é simular a criação de um data warehouse com foco em vendas de uma rede de supermercados fictícia. Usaremos a base  **Online Retail** obtida em \"https://archive.ics.uci.edu/static/public/352/online+retail.zip para realizar analises estatiticas em cima dos dados coletados.\n",
    "\n",
    "## # Caracteristicas da base de dados\n",
    "\n",
    "A **Online Retail** é um conjunto de dados transacionais que contém todas as transações ocorridas entre 01/12/2010 e 09/12/2011 para um varejo online sem loja física, com sede e registro no Reino Unido. As caracteristicas desta base são _**Multivariate, Sequential, Time-Series**_ e possui as seguintes colunas e tipos de dados.\n",
    "\n",
    "| **Nome da Variável** | **Papel**  | **Tipo**        | **Descrição**                                                                                      | **Unidades** |\n",
    "|----------------------|------------|------------------|----------------------------------------------------------------------------------------------------|--------------|\n",
    "| **InvoiceNo**        | ID         | Categórica       | Um número inteiro de 6 dígitos atribuído exclusivamente a cada transação. Se começar com a letra 'C', indica um cancelamento. | –            |\n",
    "| **StockCode**        | ID         | Categórica       | Um número inteiro de 5 dígitos atribuído exclusivamente a cada produto distinto.                  | –            |\n",
    "| **Description**      | Atributo   | Categórica       | Nome do produto.                                                                                  | –            |\n",
    "| **Quantity**         | Atributo   | Inteiro          | Quantidade de cada produto (item) por transação.                                                  | –            |\n",
    "| **InvoiceDate**      | Atributo   | Data             | Dia e hora em que cada transação foi gerada.                                                      | –            |\n",
    "| **UnitPrice**        | Atributo   | Contínua         | Preço do produto por unidade.                                                                     | Libras Esterlinas |\n",
    "| **CustomerID**       | Atributo   | Categórica       | Número inteiro de 5 dígitos atribuído exclusivamente a cada cliente.                              | –            |\n",
    "| **Country**          | Atributo   | Categórica       | Nome do país onde reside cada cliente.                                                             | –            |\n",
    "\n",
    "\n"
   ]
  },
  {
   "cell_type": "markdown",
   "metadata": {
    "application/vnd.databricks.v1+cell": {
     "cellMetadata": {},
     "inputWidgets": {},
     "nuid": "55c5a16b-d60d-4b23-a322-73db8a9f209f",
     "showTitle": false,
     "tableResultSettingsMap": {},
     "title": ""
    }
   },
   "source": [
    "## Perguntas de negócio\n",
    "Para o varejista que cedeu a base online retail pode ser importante saber qual é o produto que mais vende em cada pais e também datas especificas onde tem-se as maiores saidas. Com base nisso teremos duas perguntas a serem respondidas pelo datalake proposto:\n",
    "- Os produtos que vendem mais em cada pais\n",
    "- Quais datas tem-se mais vendas."
   ]
  },
  {
   "cell_type": "code",
   "execution_count": 0,
   "metadata": {
    "application/vnd.databricks.v1+cell": {
     "cellMetadata": {
      "byteLimit": 2048000,
      "rowLimit": 10000
     },
     "inputWidgets": {},
     "nuid": "f026ff3e-0d72-496e-ad99-a2e94ee0d4e2",
     "showTitle": true,
     "tableResultSettingsMap": {},
     "title": "Realiza as importações das bibliotecas necessárias"
    }
   },
   "outputs": [
    {
     "output_type": "stream",
     "name": "stdout",
     "output_type": "stream",
     "text": [
      "Collecting openpyxl\r\n  Downloading openpyxl-3.1.5-py2.py3-none-any.whl (250 kB)\r\n\u001B[?25l\r\u001B[K     |█▎                              | 10 kB 24.4 MB/s eta 0:00:01\r\u001B[K     |██▋                             | 20 kB 6.0 MB/s eta 0:00:01\r\u001B[K     |████                            | 30 kB 8.7 MB/s eta 0:00:01\r\u001B[K     |█████▎                          | 40 kB 7.5 MB/s eta 0:00:01\r\u001B[K     |██████▌                         | 51 kB 5.5 MB/s eta 0:00:01\r\u001B[K     |███████▉                        | 61 kB 6.4 MB/s eta 0:00:01\r\u001B[K     |█████████▏                      | 71 kB 7.4 MB/s eta 0:00:01\r\u001B[K     |██████████▌                     | 81 kB 6.2 MB/s eta 0:00:01\r\u001B[K     |███████████▊                    | 92 kB 6.9 MB/s eta 0:00:01\r\u001B[K     |█████████████                   | 102 kB 7.5 MB/s eta 0:00:01\r\u001B[K     |██████████████▍                 | 112 kB 7.5 MB/s eta 0:00:01\r\u001B[K     |███████████████▊                | 122 kB 7.5 MB/s eta 0:00:01\r\u001B[K     |█████████████████               | 133 kB 7.5 MB/s eta 0:00:01\r\u001B[K     |██████████████████▎             | 143 kB 7.5 MB/s eta 0:00:01\r\u001B[K     |███████████████████▋            | 153 kB 7.5 MB/s eta 0:00:01\r\u001B[K     |█████████████████████           | 163 kB 7.5 MB/s eta 0:00:01\r\u001B[K     |██████████████████████▏         | 174 kB 7.5 MB/s eta 0:00:01\r\u001B[K     |███████████████████████▌        | 184 kB 7.5 MB/s eta 0:00:01\r\u001B[K     |████████████████████████▉       | 194 kB 7.5 MB/s eta 0:00:01\r\u001B[K     |██████████████████████████▏     | 204 kB 7.5 MB/s eta 0:00:01\r\u001B[K     |███████████████████████████▍    | 215 kB 7.5 MB/s eta 0:00:01\r\u001B[K     |████████████████████████████▊   | 225 kB 7.5 MB/s eta 0:00:01\r\u001B[K     |██████████████████████████████  | 235 kB 7.5 MB/s eta 0:00:01\r\u001B[K     |███████████████████████████████▍| 245 kB 7.5 MB/s eta 0:00:01\r\u001B[K     |████████████████████████████████| 250 kB 7.5 MB/s \r\n\u001B[?25hCollecting et-xmlfile\r\n  Downloading et_xmlfile-2.0.0-py3-none-any.whl (18 kB)\r\nInstalling collected packages: et-xmlfile, openpyxl\r\nSuccessfully installed et-xmlfile-2.0.0 openpyxl-3.1.5\r\n\u001B[33mWARNING: You are using pip version 21.2.4; however, version 25.0.1 is available.\r\nYou should consider upgrading via the '/local_disk0/.ephemeral_nfs/envs/pythonEnv-30b655f1-34e2-487e-8d0c-d27ea2108ed6/bin/python -m pip install --upgrade pip' command.\u001B[0m\r\n"
     ]
    },
    {
     "output_type": "display_data",
     "data": {
      "application/vnd.databricks.v1+bamboolib_hint": "{\"pd.DataFrames\": [], \"version\": \"0.0.1\"}",
      "text/plain": []
     },
     "metadata": {},
     "output_type": "display_data"
    }
   ],
   "source": [
    "!pip install openpyxl\n",
    "\n",
    "import requests,zipfile,os,io\n",
    "import pandas as pd\n",
    "from io import BytesIO\n",
    "from pyspark.sql import SparkSession,Column\n",
    "from pyspark import SparkContext\n",
    "from pyspark.sql.window import Window\n",
    "from pyspark.sql.functions import col, trim,concat_ws, collect_list, isnan,count, row_number,split, flatten, array_distinct\n",
    "import matplotlib.pyplot as plt\n",
    "from pyspark.ml.fpm import FPGrowth\n",
    "from pyspark.sql import functions as F"
   ]
  },
  {
   "cell_type": "code",
   "execution_count": 0,
   "metadata": {
    "application/vnd.databricks.v1+cell": {
     "cellMetadata": {
      "byteLimit": 2048000,
      "rowLimit": 10000
     },
     "inputWidgets": {},
     "nuid": "05da2918-5a26-424c-81bd-06d31c821ea2",
     "showTitle": true,
     "tableResultSettingsMap": {},
     "title": "Aquisição dos dados  de compras realizadas pelo varejista"
    }
   },
   "outputs": [],
   "source": [
    "\n",
    "url = \"https://archive.ics.uci.edu/static/public/352/online+retail.zip\"\n",
    "response = requests.get(url)\n",
    "with zipfile.ZipFile(io.BytesIO(response.content)) as z:\n",
    "    file_name = z.namelist()[0]\n",
    "    with z.open(file_name) as f:\n",
    "        df = pd.read_excel(f)"
   ]
  },
  {
   "cell_type": "markdown",
   "metadata": {
    "application/vnd.databricks.v1+cell": {
     "cellMetadata": {
      "byteLimit": 2048000,
      "rowLimit": 10000
     },
     "inputWidgets": {},
     "nuid": "0f0c9eb2-859e-4f94-812c-268804d61df1",
     "showTitle": false,
     "tableResultSettingsMap": {},
     "title": ""
    }
   },
   "source": [
    "Para iniciar as análises o excel será carregado diretamente em um dataframe spark definindo assim a camada BRONZE"
   ]
  },
  {
   "cell_type": "code",
   "execution_count": 0,
   "metadata": {
    "application/vnd.databricks.v1+cell": {
     "cellMetadata": {
      "byteLimit": 2048000,
      "rowLimit": 10000
     },
     "inputWidgets": {},
     "nuid": "ae65648b-aa94-4c99-9136-03b2f6a59465",
     "showTitle": true,
     "tableResultSettingsMap": {},
     "title": "Etapa que carrega os dados do excel no spark criando a camada BRONZE"
    }
   },
   "outputs": [
    {
     "output_type": "stream",
     "name": "stderr",
     "output_type": "stream",
     "text": [
      "/databricks/spark/python/pyspark/sql/pandas/conversion.py:467: UserWarning: createDataFrame attempted Arrow optimization because 'spark.sql.execution.arrow.pyspark.enabled' is set to true; however, failed by the reason below:\n  Could not convert 'C536379' with type str: tried to convert to int64\nAttempting non-optimization as 'spark.sql.execution.arrow.pyspark.fallback.enabled' is set to true.\n  warn(msg)\n"
     ]
    },
    {
     "output_type": "stream",
     "name": "stdout",
     "output_type": "stream",
     "text": [
      "Out[9]: DataFrame[]"
     ]
    }
   ],
   "source": [
    "spark = SparkSession.builder.appName(\"LerExcelParaBronze\").config(\"spark.jars.packages\", \"com.crealytics:spark-excel_2.12:0.13.5\").getOrCreate()\n",
    "\n",
    "df_spark = spark.createDataFrame(df)\n",
    "bronze_path = \"/mnt/data/bronze/compras\"\n",
    "df_spark.write.format(\"delta\").mode(\"overwrite\").save(bronze_path)\n",
    "spark.sql(\"CREATE DATABASE IF NOT EXISTS bronze\")\n",
    "spark.sql(f\"CREATE TABLE IF NOT EXISTS bronze.compras USING DELTA LOCATION '{bronze_path}'\")"
   ]
  },
  {
   "cell_type": "markdown",
   "metadata": {
    "application/vnd.databricks.v1+cell": {
     "cellMetadata": {
      "byteLimit": 2048000,
      "rowLimit": 10000
     },
     "inputWidgets": {},
     "nuid": "055df773-5c95-4f89-b0f3-1d616ade26d7",
     "showTitle": false,
     "tableResultSettingsMap": {},
     "title": ""
    }
   },
   "source": [
    "Para a análise de itens frequentes, informações em falta como Numero da nota fiscal, codigo do produto, descrição do produto e pais origem invalidam o registro, então para o conjunto PRATA estas linhas serão deletadas."
   ]
  },
  {
   "cell_type": "code",
   "execution_count": 0,
   "metadata": {
    "application/vnd.databricks.v1+cell": {
     "cellMetadata": {
      "byteLimit": 2048000,
      "rowLimit": 10000
     },
     "inputWidgets": {},
     "nuid": "ece192f5-f2ad-4e42-8370-556ce2bf1478",
     "showTitle": true,
     "tableResultSettingsMap": {},
     "title": "Criando a camada prata"
    }
   },
   "outputs": [
    {
     "output_type": "stream",
     "name": "stdout",
     "output_type": "stream",
     "text": [
      "Antes da limpeza: 541909\ndepois da limpeza :539995\nOut[4]: DataFrame[]"
     ]
    }
   ],
   "source": [
    "\n",
    "df_bronze_compras_tmp = spark.sql(\"SELECT * FROM bronze.compras\")\n",
    "#removendo linhas inuteis\n",
    "print (\"Antes da limpeza: \"+str(df_bronze_compras_tmp.count()) )    \n",
    "df_bronze_compras_limpo = df_bronze_compras_tmp.filter(\n",
    "    ~(\n",
    "        col(\"InvoiceNo\").isNull() | (trim(col(\"InvoiceNo\")) == \"\") |\n",
    "        col(\"StockCode\").isNull() | (trim(col(\"StockCode\")) == \"\") |\n",
    "        col(\"Description\").isNull() | isnan(col(\"Description\")) | (trim(col(\"Description\")) == \"\") | (trim(col(\"Description\")) == \"Damaged\") |\n",
    "        col(\"CustomerID\").isNull() | (trim(col(\"CustomerID\")) == \"\") |\n",
    "        col(\"Country\").isNull() | (trim(col(\"Country\")) == \"\") |  (trim(col(\"Country\")) == \"Unspecified\") |\n",
    "        col(\"InvoiceDate\").isNull() | (trim(col(\"InvoiceDate\")) == \"\")\n",
    "    )\n",
    ")\n",
    "print(\"depois da limpeza :\"+str(df_bronze_compras_limpo.count()))\n",
    "\n",
    "#criando camada prata\n",
    "prata_path = \"/mnt/data/prata/compras\"\n",
    "df_bronze_compras_limpo.write.format(\"delta\").mode(\"overwrite\").save(prata_path)\n",
    "spark.sql(\"CREATE DATABASE IF NOT EXISTS prata\")\n",
    "spark.sql(f\"CREATE TABLE IF NOT EXISTS prata.compras USING DELTA LOCATION '{prata_path}'\")"
   ]
  },
  {
   "cell_type": "markdown",
   "metadata": {
    "application/vnd.databricks.v1+cell": {
     "cellMetadata": {
      "byteLimit": 2048000,
      "rowLimit": 10000
     },
     "inputWidgets": {},
     "nuid": "3cbfd76f-99c8-4adb-9acd-a564a2943998",
     "showTitle": true,
     "tableResultSettingsMap": {},
     "title": ""
    },
    "jupyter": {
     "outputs_hidden": true
    }
   },
   "source": [
    "Para o conjunto **OURO** os dados foram organizados como **fato_venda,dim_cliente,dim_pais,dim_produto**\n",
    "\n",
    "Tabela: **fato_venda**\n",
    "\n",
    "- InvoiceNo     (string)   → Número único da nota fiscal (se começar com 'C', é cancelamento)\n",
    "- InvoiceDate   (timestamp)→ Data e hora da transação\n",
    "- ClienteID     (long)     → FK para dim_cliente\n",
    "- PaisID        (long)     → FK para dim_pais\n",
    "- ProdutoID     (long)     → FK para dim_produto\n",
    "- Quantity      (integer)  → Quantidade de produtos vendidos\n",
    "- UnitPrice     (double)   → Preço unitário do produto (libras esterlinas)\n",
    "\n",
    "\n",
    "Tabela: **dim_cliente**\n",
    "\n",
    "- ClienteID      (long)     → ID único da dimensão cliente (gerado)\n",
    "- CodigoCliente  (integer)  → Código original do cliente (5 dígitos)\n",
    "- PaisID         (long)     → FK para dim_pais\n",
    "\n",
    "Tabela: **dim_pais**\n",
    "\n",
    "- PaisID     (long)   → ID único do país (gerado)\n",
    "- NomePais   (string) → Nome do país do cliente\n",
    "\n",
    "Tabela: **dim_produto**\n",
    "\n",
    "- ProdutoID         (long)   → ID único do produto (gerado)\n",
    "- CodigoProduto     (string) → Código original do produto (5 dígitos)\n",
    "- ProdutoDescricao  (string) → Nome do produto\n",
    "- PrecoUnitario     (double) → Preço padrão do produto (libras esterlinas)\n",
    "\n"
   ]
  },
  {
   "cell_type": "code",
   "execution_count": 0,
   "metadata": {
    "application/vnd.databricks.v1+cell": {
     "cellMetadata": {
      "byteLimit": 2048000,
      "rowLimit": 10000
     },
     "inputWidgets": {},
     "nuid": "191a1d35-fb6f-455d-bf3c-6e3a12e0495f",
     "showTitle": false,
     "tableResultSettingsMap": {},
     "title": ""
    }
   },
   "outputs": [
    {
     "output_type": "stream",
     "name": "stdout",
     "output_type": "stream",
     "text": [
      "Out[30]: DataFrame[]"
     ]
    }
   ],
   "source": [
    "df_dados_tmp = spark.sql(\"SELECT * FROM prata.compras\")\n",
    "\n",
    "df_pais = df_dados_tmp.select(\"Country\").dropDuplicates() \\\n",
    "    .withColumnRenamed(\"Country\", \"NomePais\") \\\n",
    "    .withColumn(\"PaisID\", F.monotonically_increasing_id())\n",
    "\n",
    "df_cliente_raw = df_dados_tmp.select(\"CustomerID\", \"Country\") \\\n",
    "    .where(\"CustomerID IS NOT NULL\") \\\n",
    "    .dropDuplicates([\"CustomerID\"])\n",
    "\n",
    "df_cliente = df_cliente_raw.join(\n",
    "    df_pais, df_cliente_raw[\"Country\"] == df_pais[\"NomePais\"], \"left\"\n",
    ").select(\"CustomerID\", \"PaisID\") \\\n",
    " .withColumn(\"ClienteID\", F.monotonically_increasing_id())\n",
    "\n",
    "df_produto = df_dados_tmp.select(\"StockCode\", \"Description\", \"UnitPrice\") \\\n",
    "    .dropDuplicates([\"StockCode\"]) \\\n",
    "    .withColumnRenamed(\"Description\", \"ProdutoDescricao\") \\\n",
    "    .withColumnRenamed(\"UnitPrice\", \"ProdutoPrecoUnitario\") \\\n",
    "    .withColumn(\"ProdutoID\", F.monotonically_increasing_id())\n",
    "\n",
    "df_venda_raw = df_dados_tmp.select(\"InvoiceNo\", \"InvoiceDate\", \"StockCode\", \"CustomerID\", \"Quantity\", \"UnitPrice\") \\\n",
    "    .where(\"CustomerID IS NOT NULL\") \\\n",
    "    .filter(~F.col(\"InvoiceNo\").startswith(\"C\"))  # opcional: ignora cancelamentos\n",
    "\n",
    "# Junta com Produto\n",
    "df_venda = df_venda_raw.join(\n",
    "    df_produto.select(\"StockCode\", \"ProdutoID\"), on=\"StockCode\", how=\"left\"\n",
    ")\n",
    "\n",
    "# Junta com Cliente (que já tem PaisID)\n",
    "df_venda = df_venda.join(\n",
    "    df_cliente.select(\"CustomerID\", \"ClienteID\", \"PaisID\"), on=\"CustomerID\", how=\"left\"\n",
    ")\n",
    "\n",
    "# Seleciona colunas finais\n",
    "df_venda = df_venda.select(\n",
    "    \"InvoiceNo\", \"InvoiceDate\", \"ClienteID\", \"PaisID\", \"ProdutoID\", \"Quantity\", \"UnitPrice\"\n",
    ")\n",
    "\n",
    "ouro_pais_path = \"/mnt/data/ouro/pais\"\n",
    "df_pais.write.format(\"delta\").mode(\"overwrite\").save(ouro_pais_path)\n",
    "spark.sql(\"CREATE DATABASE IF NOT EXISTS ouro\")\n",
    "spark.sql(f\"CREATE TABLE IF NOT EXISTS ouro.dim_pais USING DELTA LOCATION '{ouro_pais_path}'\")\n",
    "\n",
    "ouro_produto_path = \"/mnt/data/ouro/produto\"\n",
    "df_produto.write.format(\"delta\").mode(\"overwrite\").save(ouro_produto_path)\n",
    "spark.sql(\"CREATE DATABASE IF NOT EXISTS ouro\")\n",
    "spark.sql(f\"CREATE TABLE IF NOT EXISTS ouro.dim_produto USING DELTA LOCATION '{ouro_produto_path}'\")\n",
    "\n",
    "ouro_venda_path = \"/mnt/data/ouro/venda\"\n",
    "df_venda.write.format(\"delta\").mode(\"overwrite\").save(ouro_venda_path)\n",
    "spark.sql(\"CREATE DATABASE IF NOT EXISTS ouro\")\n",
    "spark.sql(f\"CREATE TABLE IF NOT EXISTS ouro.fato_venda USING DELTA LOCATION '{ouro_venda_path}'\")\n",
    "\n",
    "ouro_cliente_path = \"/mnt/data/ouro/cliente\"\n",
    "df_cliente.write.format(\"delta\").mode(\"overwrite\").save(ouro_cliente_path)\n",
    "spark.sql(\"CREATE DATABASE IF NOT EXISTS ouro\")\n",
    "spark.sql(f\"CREATE TABLE IF NOT EXISTS ouro.dim_cliente USING DELTA LOCATION '{ouro_cliente_path}'\")\n",
    "\n"
   ]
  },
  {
   "cell_type": "markdown",
   "metadata": {
    "application/vnd.databricks.v1+cell": {
     "cellMetadata": {
      "byteLimit": 2048000,
      "rowLimit": 10000
     },
     "inputWidgets": {},
     "nuid": "813f33cc-f452-493e-bbe5-573f2e47e73e",
     "showTitle": false,
     "tableResultSettingsMap": {},
     "title": ""
    },
    "jupyter": {
     "outputs_hidden": true
    }
   },
   "source": [
    "> Como objetivos sobre os dados do conjunto **OURO** em questão queremos\n",
    "-   Obter estatisticas como:\n",
    "> -     Produtos mais vendidos por pais\n",
    "> -     Produtos mais vendidos por pais / data\n",
    "-  Obter associações entre produtos \n"
   ]
  },
  {
   "cell_type": "code",
   "execution_count": 0,
   "metadata": {
    "application/vnd.databricks.v1+cell": {
     "cellMetadata": {
      "byteLimit": 2048000,
      "rowLimit": 10000
     },
     "inputWidgets": {},
     "nuid": "b6df99f8-98b9-4db0-87e1-ad47d3dbd663",
     "showTitle": true,
     "tableResultSettingsMap": {},
     "title": "produtos mais vendidos por pais"
    }
   },
   "outputs": [
    {
     "output_type": "stream",
     "name": "stdout",
     "output_type": "stream",
     "text": [
      "+--------------------+-----------------------------------+----------+\n|NomePais            |ProdutoDescricao                   |frequencia|\n+--------------------+-----------------------------------+----------+\n|Australia           |GREEN POLKADOT BOWL                |9         |\n|Austria             |DISCO BALL ROTATOR BATTERY OPERATED|12        |\n|Bahrain             |12 PENCILS TALL TUBE RED RETROSPOT |2         |\n|Belgium             |DISCO BALL ROTATOR BATTERY OPERATED|96        |\n|Brazil              |PAPER LANTERN 5 POINT SEQUIN STAR  |1         |\n|Canada              |GREEN GOOSE FEATHER TREE 60CM      |2         |\n|Channel Islands     |SWEET PUDDING STICKER SHEET        |7         |\n|Cyprus              |thrown away                        |10        |\n|Czech Republic      |SMALL HEART FLOWERS HOOK           |1         |\n|Denmark             |DISCO BALL ROTATOR BATTERY OPERATED|13        |\n|EIRE                |VINTAGE CHRISTMAS GIFT BAG LARGE   |98        |\n|European Community  |DISCO BALL ROTATOR BATTERY OPERATED|3         |\n|Finland             |DISCO BALL ROTATOR BATTERY OPERATED|37        |\n|France              |DISCO BALL ROTATOR BATTERY OPERATED|300       |\n|Germany             |DISCO BALL ROTATOR BATTERY OPERATED|374       |\n|Greece              |DISCO BALL ROTATOR BATTERY OPERATED|3         |\n|Iceland             |BLUE POLKADOT PURSE                |6         |\n|Israel              |ANIMAL STICKERS                    |3         |\n|Italy               |DISCO BALL ROTATOR BATTERY OPERATED|17        |\n|Japan               |ICE CREAM BUBBLES                  |5         |\n|Lebanon             |PINK STRAWBERRY HANDBAG            |1         |\n|Lithuania           |SET OF TEA COFFEE SUGAR TINS PANTRY|2         |\n|Malta               |DISCO BALL ROTATOR BATTERY OPERATED|3         |\n|Netherlands         |DISCO BALL ROTATOR BATTERY OPERATED|37        |\n|Norway              |DISCO BALL ROTATOR BATTERY OPERATED|20        |\n|Poland              |POPPY'S PLAYHOUSE KITCHEN          |7         |\n|Portugal            |DISCO BALL ROTATOR BATTERY OPERATED|30        |\n|RSA                 |S/3 POT POURI CUSHIONS BLUE COLOURS|1         |\n|Saudi Arabia        |TOY TIDY PINK POLKADOT             |1         |\n|Singapore           |PAPER BUNTING VINTAGE PAISLEY      |7         |\n|Spain               |DISCO BALL ROTATOR BATTERY OPERATED|62        |\n|Sweden              |DISCO BALL ROTATOR BATTERY OPERATED|22        |\n|Switzerland         |DISCO BALL ROTATOR BATTERY OPERATED|31        |\n|USA                 |SET 6 CARDS SPARKLY REINDEER 17262 |2         |\n|United Arab Emirates|REX CASH+CARRY JUMBO SHOPPER       |1         |\n|United Kingdom      |VINTAGE DOILY TRAVEL SEWING KIT    |2183      |\n+--------------------+-----------------------------------+----------+\n\n"
     ]
    }
   ],
   "source": [
    "df_vendas_por_pais = spark.sql(\"SELECT c.NomePais,b.ProdutoDescricao,count(*)  as frequencia FROM ouro.fato_venda a INNER JOIN ouro.dim_produto b on a.ProdutoID = b.ProdutoID  INNER JOIN ouro.dim_pais c on c.PaisID = a.PaisID  group by c.NomePais,b.ProdutoDescricao order by frequencia desc\")\n",
    "\n",
    "janela = Window.partitionBy(\"NomePais\").orderBy(df_vendas_por_pais[\"frequencia\"].desc())\n",
    "df_top_produtos_por_pais = df_vendas_por_pais.withColumn(\n",
    "    \"rank\", row_number().over(janela)\n",
    ").filter(\"rank = 1\").drop(\"rank\")\n",
    "\n",
    "df_top_produtos_por_pais.show(38,truncate=False)\n",
    "\n"
   ]
  },
  {
   "cell_type": "code",
   "execution_count": 0,
   "metadata": {
    "application/vnd.databricks.v1+cell": {
     "cellMetadata": {
      "byteLimit": 2048000,
      "rowLimit": 10000
     },
     "inputWidgets": {},
     "nuid": "1033deb7-c6dd-4085-9489-13e7be7c9e68",
     "showTitle": true,
     "tableResultSettingsMap": {},
     "title": "produtos mais vendidos por pais em determinada data"
    }
   },
   "outputs": [
    {
     "output_type": "stream",
     "name": "stdout",
     "output_type": "stream",
     "text": [
      "+-------------------+-----------------------------------+----------+\n|InvoiceDate        |ProdutoDescricao                   |frequencia|\n+-------------------+-----------------------------------+----------+\n|2011-06-05 11:37:00|TROPICAL PASSPORT COVER            |20        |\n|2011-06-05 11:37:00|SET/6 COLLAGE PAPER CUPS           |12        |\n|2011-10-26 12:46:00|SET OF 10 LANTERNS FAIRY LIGHT STAR|8         |\n|2011-11-23 14:07:00|BEADED CRYSTAL HEART GREEN ON STICK|7         |\n|2011-10-24 10:43:00|PAPER BUNTING VINTAGE PAISLEY      |7         |\n|2010-12-12 14:27:00|SCENTED VELVET LOUNGE CANDLE       |6         |\n|2011-01-16 16:25:00|JAM JAR WITH GREEN LID             |6         |\n|2011-01-16 16:25:00|BLUE BUNNY EASTER EGG BASKET       |6         |\n|2011-11-04 12:45:00|FOOD CONTAINER SET 3 LOVE HEART    |6         |\n|2011-01-09 12:53:00|SCENTED VELVET LOUNGE CANDLE       |6         |\n|2011-05-10 15:07:00|STAR  T-LIGHT HOLDER               |5         |\n|2011-05-10 15:07:00|RUSTIC STRAWBERRY JAM POT SMALL    |5         |\n|2011-06-07 13:44:00|GLASS JAR MARMALADE                |5         |\n|2011-04-17 13:43:00|GROW YOUR OWN FLOWERS SET OF 3     |5         |\n|2011-11-15 11:37:00|RED RETROSPOT ROUND CAKE TINS      |5         |\n|2011-11-23 14:07:00|NEW BAROQUE B'FLY NECKLACE RED     |5         |\n|2011-03-24 19:31:00|RED RETROSPOT PUDDING BOWL         |5         |\n|2011-05-10 15:07:00|FRENCH BLUE METAL DOOR SIGN 9      |5         |\n|2011-03-04 14:13:00|NATURAL SLATE CHALKBOARD LARGE     |5         |\n|2011-11-11 10:41:00|MOTORING TISSUE BOX                |5         |\n|2011-03-28 12:13:00|Unsaleable, destroyed.             |5         |\n|2011-11-25 11:20:00|GREEN POLKADOT PLATE               |5         |\n|2011-05-10 15:07:00|WATERMELON BATH SPONGE             |5         |\n|2011-05-10 15:07:00|GLITTER CHRISTMAS TREE             |5         |\n|2011-12-02 14:26:00|MIRROR CORNICE                     |5         |\n|2011-10-13 12:59:00|GREEN POLKADOT PLATE               |5         |\n|2011-02-20 14:31:00|PACK/12 XMAS FUN CARD              |5         |\n|2011-11-23 14:07:00|SET/6 PINK BIRD T-LIGHT CANDLES    |5         |\n|2011-11-28 13:14:00|BLUE SHARK HELICOPTER              |5         |\n|2010-12-07 15:39:00|SILVER LOOKING MIRROR              |5         |\n|2011-09-25 16:05:00|FRYING PAN PINK POLKADOT           |5         |\n|2010-12-05 16:24:00|DOLLY GIRL MINI BACKPACK           |5         |\n|2011-12-01 19:54:00|CAKE PLATE LOVEBIRD WHITE          |5         |\n|2011-11-23 14:07:00|PINK FELT EASTER RABBIT GARLAND    |5         |\n|2010-12-12 16:05:00|ENGLISH ROSE SPIRIT LEVEL          |5         |\n|2011-11-28 13:14:00|ROUND CAKE TIN VINTAGE GREEN       |5         |\n|2010-12-01 11:49:00|TEA TIME OVEN GLOVE                |5         |\n|2011-05-10 15:07:00|FELTCRAFT 6 FLOWER FRIENDS         |4         |\n|2011-05-10 15:05:00|METAL SIGN NEIGHBOURHOOD WITCH     |4         |\n|2011-05-18 11:28:00|FELTCRAFT PRINCESS CHARLOTTE DOLL  |4         |\n|2011-05-10 15:07:00|CHILDREN'S SPACEBOY MUG            |4         |\n|2011-07-08 13:53:00|WATERMELON BATH SPONGE             |4         |\n|2011-06-08 15:25:00|FRENCH BLUE METAL DOOR SIGN 9      |4         |\n|2011-07-19 13:01:00|VINTAGE DOILY TRAVEL SEWING KIT    |4         |\n|2011-05-10 15:07:00|WALL ART BICYCLE SAFETY            |4         |\n|2011-07-17 14:51:00|WOODLAND LARGE RED FELT HEART      |4         |\n|2011-06-08 15:25:00|GLITTER CHRISTMAS TREE             |4         |\n|2011-10-23 15:47:00|FAIRY DREAMS INCENSE               |4         |\n|2011-05-10 15:07:00|ORIGAMI SANDLEWOOD INCENSE+FLOWER  |4         |\n|2011-10-19 11:44:00|VIP HOLIDAY PURSE                  |4         |\n|2011-11-14 13:47:00|ASSORTED TUTTI FRUTTI KEYRING BALL |4         |\n|2011-10-25 14:35:00|WINE BOTTLE DRESSING LT.BLUE       |4         |\n|2011-05-10 15:05:00|GLITTER CHRISTMAS TREE             |4         |\n|2011-01-27 15:51:00|EASTER TIN KEEPSAKE                |4         |\n|2011-02-06 14:33:00|GREEN POLKADOT PLATE               |4         |\n|2011-10-05 13:47:00|ANT SILVER PURPLE BOUDICCA RING    |4         |\n|2011-07-03 11:26:00|CAMPHOR WOOD PORTOBELLO MUSHROOM   |4         |\n|2011-09-20 12:35:00|SINGLE WIRE HOOK PINK HEART        |4         |\n|2011-08-01 17:37:00|IVORY STRING CURTAIN WITH POLE     |4         |\n|2011-11-21 15:57:00|12 PENCILS SMALL TUBE SKULL        |4         |\n|2011-05-10 15:05:00|WATERMELON BATH SPONGE             |4         |\n|2011-12-04 14:55:00|GLASS CAKE COVER AND PLATE         |4         |\n|2011-10-16 14:35:00|GREEN FERN SKETCHBOOK              |4         |\n|2011-12-06 13:20:00|SANDWICH BATH SPONGE               |4         |\n|2011-11-03 15:27:00|BLUE TILED TRAY                    |4         |\n|2010-12-12 14:27:00|JAM JAR WITH GREEN LID             |4         |\n|2011-11-27 16:05:00|SOAP DISH BROCANTE                 |4         |\n|2010-12-01 12:23:00|BISCUITS SMALL BOWL LIGHT BLUE     |4         |\n|2011-05-10 15:05:00|STAR  T-LIGHT HOLDER               |4         |\n|2011-12-02 14:26:00|FOOD CONTAINER SET 3 LOVE HEART    |4         |\n|2011-11-13 11:53:00|WOODEN HAPPY BIRTHDAY GARLAND      |4         |\n|2011-11-24 13:56:00|GROW YOUR OWN PLANT IN A CAN       |4         |\n|2011-03-30 12:00:00|WRAP CAROUSEL                      |4         |\n|2011-11-22 14:23:00|LETS GO SHOPPING COTTON TOTE BAG   |4         |\n|2011-11-08 10:44:00|FOOD CONTAINER SET 3 LOVE HEART    |4         |\n|2010-12-21 15:20:00|WATERMELON BATH SPONGE             |4         |\n|2011-05-10 15:05:00|FRENCH BLUE METAL DOOR SIGN 9      |4         |\n|2011-03-04 14:13:00|TEA TIME TEAPOT IN GIFT BOX        |4         |\n|2011-05-22 13:01:00|PACK OF 12 RED RETROSPOT TISSUES   |4         |\n|2011-03-24 12:11:00|DOLLY MIXTURE CHILDREN'S UMBRELLA  |4         |\n|2011-04-04 13:03:00|PAPER BUNTING VINTAGE PAISLEY      |4         |\n|2011-01-27 15:51:00|PIN CUSHION BABUSHKA BLUE          |4         |\n|2011-06-19 11:41:00|GREEN POLKADOT PLATE               |4         |\n|2011-10-04 14:33:00|HANGING FAIRY CAKE DECORATION      |4         |\n|2011-05-10 15:07:00|DRAWER KNOB CERAMIC RED            |4         |\n|2010-12-10 13:50:00|Next Day Carriage                  |4         |\n|2011-06-08 15:25:00|WATERMELON BATH SPONGE             |4         |\n|2011-05-10 15:07:00|MIRRORED DISCO BALL                |4         |\n|2011-11-04 14:54:00|CREAM SLICE FLANNEL PINK SPOT      |4         |\n|2011-05-10 15:07:00|FELT TOADSTOOL  SMALL              |4         |\n|2011-10-26 12:46:00|BOTANICAL ROSE GIFT WRAP           |4         |\n|2011-05-10 15:07:00|TOY TIDY SPACEBOY                  |4         |\n|2011-11-11 10:50:00|SMALL GLASS SUNDAE DISH CLEAR      |4         |\n|2011-11-08 14:22:00|CAKE STAND WHITE TWO TIER LACE     |4         |\n|2011-10-19 15:08:00|HEAVENS SCENT FRAGRANCE OILS ASSTD |4         |\n|2011-04-17 13:43:00|PINK UNION JACK  LUGGAGE TAG       |4         |\n|2011-03-22 16:55:00|sold as set on dotcom              |4         |\n|2011-11-04 12:45:00|CRYSTAL STUD EARRINGS CLEAR DISPLAY|4         |\n|2011-09-28 15:50:00|CHRISTMAS STAR WISH LIST CHALKBOARD|4         |\n|2011-05-10 15:07:00|RECORD FRAME 7\" SINGLE SIZE        |4         |\n+-------------------+-----------------------------------+----------+\nonly showing top 100 rows\n\n"
     ]
    }
   ],
   "source": [
    "df_vendas_por_pais_data = spark.sql(\"SELECT a.InvoiceDate,b.ProdutoDescricao,count(*)  as frequencia FROM ouro.fato_venda a INNER JOIN ouro.dim_produto b on a.ProdutoID = b.ProdutoID  INNER JOIN ouro.dim_pais c on c.PaisID = a.PaisID  group by a.InvoiceDate,b.ProdutoDescricao order by frequencia desc\")\n",
    "\n",
    "df_vendas_por_pais_data.show(100,truncate=False)\n"
   ]
  },
  {
   "cell_type": "markdown",
   "metadata": {
    "application/vnd.databricks.v1+cell": {
     "cellMetadata": {},
     "inputWidgets": {},
     "nuid": "621c453c-ee66-4bff-a0bb-b88cebfa51ed",
     "showTitle": false,
     "tableResultSettingsMap": {},
     "title": ""
    }
   },
   "source": [
    "# Conclusão\n",
    " Após análise na base **_Online Retail_**,tive poucos problemas com a limpeza dos dados, havia apenas poucos registros com paises indefinidos e produtos sem descrição. A camada ouro foi a mais custosa para a montagem do modelo estrela, dado a natureza desnormalizada que os dados fornecidos continham, tive que exercer as etapas iniciais de normalização dos dados para que fosse possível estabelecer o esquema estrela.\n",
    " As perguntas de negócios traçadas, poderiam ser melhores dado um conhecimento maior sobre o Varejista fornecedor dos dados, porém, para uma empresa multinacional como a que está em foco, saber o produto que mais vende em cada país e as datas chave que se tem mais vendas pode ser um Ás na manga para traçar promoções. Por fim, uma análise que poderia ser adicional, é a conhecida busca por itens frequentes, como a que foi realizada pelo walmart em um experimento, onde descobriu-se que no dia em que acontece o _Superbol _ tinha muita saida de Cerveja e fraldas."
   ]
  }
 ],
 "metadata": {
  "application/vnd.databricks.v1+notebook": {
   "computePreferences": null,
   "dashboards": [],
   "environmentMetadata": {
    "base_environment": "",
    "environment_version": "1"
   },
   "inputWidgetPreferences": null,
   "language": "python",
   "notebookMetadata": {
    "mostRecentlyExecutedCommandWithImplicitDF": {
     "commandId": 689940021578095,
     "dataframes": [
      "_sqldf"
     ]
    },
    "pythonIndentUnit": 4
   },
   "notebookName": "MVP_PUC",
   "widgets": {}
  }
 },
 "nbformat": 4,
 "nbformat_minor": 0
}